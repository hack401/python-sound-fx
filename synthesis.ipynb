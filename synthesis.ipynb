{
 "cells": [
  {
   "cell_type": "code",
   "execution_count": null,
   "metadata": {},
   "outputs": [],
   "source": [
    "import matplotlib.pyplot as plt\n",
    "import numpy as np\n",
    "import scipy.signal\n",
    "import soundfile as sf\n",
    "\n",
    "from IPython.display import Audio\n",
    "\n",
    "%matplotlib inline"
   ]
  },
  {
   "cell_type": "markdown",
   "metadata": {},
   "source": [
    "# What is sound?\n",
    "\n",
    "https://musiclab.chromeexperiments.com/Sound-Waves/"
   ]
  },
  {
   "cell_type": "code",
   "execution_count": null,
   "metadata": {},
   "outputs": [],
   "source": [
    "sample_rate = 44100  # Curious about this magic number? Skip to the bottom!\n",
    "frequency = 440\n",
    "twopi = 2 * np.pi\n",
    "\n",
    "time = np.linspace(0, 1, sample_rate, endpoint=False)"
   ]
  },
  {
   "cell_type": "markdown",
   "metadata": {},
   "source": [
    "## Simple Oscillators\n",
    "\n",
    "https://musiclab.chromeexperiments.com/Oscillators/"
   ]
  },
  {
   "cell_type": "code",
   "execution_count": null,
   "metadata": {},
   "outputs": [],
   "source": [
    "sinewave = np.sin(twopi * frequency * time)\n",
    "\n",
    "plt.figure(figsize=(12, 4))\n",
    "plt.plot(time, sinewave)\n",
    "plt.xlim(0, 0.05)\n",
    "plt.xlabel(\"Time (sec)\")\n",
    "\n",
    "Audio(sinewave, rate=rate)"
   ]
  },
  {
   "cell_type": "code",
   "execution_count": null,
   "metadata": {},
   "outputs": [],
   "source": [
    "squarewave = scipy.signal.square(twopi * frequency * time)\n",
    "\n",
    "plt.figure(figsize=(12, 4))\n",
    "plt.plot(times, squarewave)\n",
    "plt.xlim(0, 0.05)\n",
    "plt.xlabel(\"Time (sec)\")\n",
    "\n",
    "Audio(squarewave, rate=rate)"
   ]
  },
  {
   "cell_type": "code",
   "execution_count": null,
   "metadata": {},
   "outputs": [],
   "source": [
    "sawwave = scipy.signal.sawtooth(twopi * frequency * time)\n",
    "\n",
    "plt.figure(figsize=(12, 4))\n",
    "plt.plot(times, sawwave)\n",
    "plt.xlim(0, 0.05)\n",
    "plt.xlabel(\"Time (sec)\")\n",
    "\n",
    "Audio(sawwave, rate=rate)"
   ]
  },
  {
   "cell_type": "markdown",
   "metadata": {},
   "source": [
    "## Harmonics & Additive Synthesis\n",
    "\n",
    "https://musiclab.chromeexperiments.com/Harmonics/"
   ]
  },
  {
   "cell_type": "code",
   "execution_count": null,
   "metadata": {},
   "outputs": [],
   "source": [
    "complex_wave = np.sin(twopi * frequency * times)\n",
    "complex_wave += (1 / 2) * np.sin(twopi * 2 * frequency * times)\n",
    "complex_wave += (1 / 4) * np.sin(twopi * 4 * frequency * times)\n",
    "complex_wave += (1 / 8) * np.sin(twopi * 8 * frequency * times)\n",
    "\n",
    "plt.figure(figsize=(12, 4))\n",
    "plt.plot(times, complex_wave)\n",
    "plt.xlim(0, 0.05)\n",
    "plt.xlabel(\"Time (sec)\")\n",
    "\n",
    "Audio(complex_wave, rate=rate)"
   ]
  },
  {
   "cell_type": "markdown",
   "metadata": {},
   "source": [
    "## FM Synthesis"
   ]
  },
  {
   "cell_type": "code",
   "execution_count": null,
   "metadata": {},
   "outputs": [],
   "source": [
    "beta = 1\n",
    "frequency_mod = 440\n",
    "fm_wave = np.sin((twopi * frequency * time) + beta * np.sin(twopi * frequency_mod * time))\n",
    "\n",
    "plt.figure(figsize=(12, 4))\n",
    "plt.plot(times, fm_wave)\n",
    "plt.xlim(0, 0.05)\n",
    "plt.xlabel(\"Time (sec)\")\n",
    "\n",
    "Audio(fm_wave, rate=rate)"
   ]
  },
  {
   "cell_type": "markdown",
   "metadata": {},
   "source": [
    "## Envelopes\n",
    "\n",
    "When we play music, \"real\" sounds change loundess over time. This is referred to as an envelope. \n",
    "\n",
    "In synthesizers, this is often specified by four stages: Attack, Decay, Sustain, and Release (ADSR).\n",
    "\n",
    "* Attack: The time it takes for the sound to reach peak amplitude\n",
    "\n",
    "* Decay: Time after the initial rise\n",
    "\n",
    "* Sustain: The part of the sound when holding a tone.\n",
    "\n",
    "* Release: The time it takes for all sound to stop."
   ]
  },
  {
   "cell_type": "code",
   "execution_count": null,
   "metadata": {},
   "outputs": [],
   "source": [
    "attack = 0.05\n",
    "decay = 0.05\n",
    "release = 0.1\n",
    "sustain = 1 - (attack + decay + release)\n",
    "\n",
    "peak_level = 1.0\n",
    "sustain_level = 0.5\n",
    "\n",
    "envelope = np.concatenate([np.linspace(0, peak_level, int(attack * rate), endpoint=False),\n",
    "                           np.linspace(peak_level, sustain_level, int(decay * rate), endpoint=False),\n",
    "                           np.linspace(sustain_level, sustain_level, int(sustain * rate), endpoint=False),\n",
    "                           np.linspace(sustain_level, 0, int(release * rate), endpoint=False)])\n",
    "\n",
    "plt.figure(figsize=(12, 4))\n",
    "plt.plot(times, envelope)\n",
    "plt.xlim(0, 1)\n",
    "plt.xlabel(\"Time (sec)\")\n",
    "\n",
    "Audio(envelope * fm_wave, rate=rate)"
   ]
  },
  {
   "cell_type": "markdown",
   "metadata": {},
   "source": [
    "## Generic Tone Generator"
   ]
  },
  {
   "cell_type": "code",
   "execution_count": null,
   "metadata": {},
   "outputs": [],
   "source": [
    "def synth(frequency, duration, \n",
    "          attack=0.025, decay=0.025, release=0.05, \n",
    "          peak_level=1.0, sustain_level=0.5, \n",
    "          sample_rate=44100):\n",
    "    time = np.linspace(0, duration, int(duration * sample_rate), endpoint=False)\n",
    "    sinewave = np.sin(twopi * frequency * time)\n",
    "\n",
    "    sustain = duration - (attack + decay + release)\n",
    "    envelope = np.concatenate([np.linspace(0, peak_level, int(attack * sample_rate), endpoint=False),\n",
    "                               np.linspace(peak_level, sustain_level, int(decay * sample_rate), endpoint=False),\n",
    "                               np.linspace(sustain_level, sustain_level, int(sustain * sample_rate), endpoint=False),\n",
    "                               np.linspace(sustain_level, 0, int(release * sample_rate), endpoint=False)])\n",
    "\n",
    "    length = min([len(envelope), len(sinewave)])\n",
    "    return envelope[:length] * sinewave[:length]"
   ]
  },
  {
   "cell_type": "code",
   "execution_count": null,
   "metadata": {},
   "outputs": [],
   "source": [
    "Audio(synth(350, 1.0), rate=sample_rate)"
   ]
  },
  {
   "cell_type": "markdown",
   "metadata": {},
   "source": [
    "## Musical Notes\n",
    "\n",
    "https://musiclab.chromeexperiments.com/Piano-Roll/"
   ]
  },
  {
   "cell_type": "code",
   "execution_count": null,
   "metadata": {},
   "outputs": [],
   "source": [
    "# The relationship between musical notes and pitch (frequency) is related by powers of 2\n",
    "# The notes of a piano are laid out in what's called \"12-tone equal temperament\"\n",
    "notes = np.arange(0, 88)\n",
    "pitches = 27.5 * np.power(2.0, notes / 12)"
   ]
  },
  {
   "cell_type": "code",
   "execution_count": null,
   "metadata": {},
   "outputs": [],
   "source": [
    "plt.scatter(notes, pitches, marker='.')\n",
    "plt.xlabel('Note Number')\n",
    "plt.ylabel('Frequency')"
   ]
  },
  {
   "cell_type": "code",
   "execution_count": null,
   "metadata": {},
   "outputs": [],
   "source": [
    "# A major scale looks like the following sequence\n",
    "major = [0, 2, 4, 5, 7, 9, 11, 12]\n",
    "sounds = []\n",
    "for degree in major:\n",
    "    sounds += [synth(pitches[36 + degree], 0.5)]\n",
    "\n",
    "Audio(np.concatenate(sounds), rate=sample_rate)"
   ]
  },
  {
   "cell_type": "code",
   "execution_count": null,
   "metadata": {},
   "outputs": [],
   "source": [
    "# These could be anything though...\n",
    "degrees =   [0,     2,   5,   5,   5,    5,   5,    5,   5,   0,   2]\n",
    "durations = [0.6, 0.6, 0.3, 0.3, 0.3, 0.15, 0.3, 0.15, 0.3, 0.3, 0.3]\n",
    "\n",
    "sounds = []\n",
    "for degree, duration in zip(degrees, durations):\n",
    "    sounds += [synth(pitches[36 + degree], duration)]\n",
    "    \n",
    "Audio(np.concatenate(sounds + sounds[2:]), rate=sample_rate)"
   ]
  },
  {
   "cell_type": "markdown",
   "metadata": {},
   "source": [
    "## Synthesizer Challenge!\n",
    "\n",
    "Now it's your turn! Recombine the code provided to create a melody using whatever tones you can generate."
   ]
  },
  {
   "cell_type": "code",
   "execution_count": null,
   "metadata": {},
   "outputs": [],
   "source": []
  }
 ],
 "metadata": {
  "kernelspec": {
   "display_name": "Python 3",
   "language": "python",
   "name": "python3"
  },
  "language_info": {
   "codemirror_mode": {
    "name": "ipython",
    "version": 3
   },
   "file_extension": ".py",
   "mimetype": "text/x-python",
   "name": "python",
   "nbconvert_exporter": "python",
   "pygments_lexer": "ipython3",
   "version": "3.6.7"
  }
 },
 "nbformat": 4,
 "nbformat_minor": 2
}
