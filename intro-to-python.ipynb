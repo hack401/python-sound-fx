{
 "cells": [
  {
   "cell_type": "markdown",
   "metadata": {},
   "source": [
    "# A Wicked Quick Intro to Python\n",
    "\n",
    "Python is a flexible, user-friendly programming language. The syntax (how it's written) feels pretty similar to how you'd describe code in English, and doesn't require that you –the human writing code– do too much thinking in advance. This makes it really easy to figure things out on the fly, and try, try, and try some more.\n",
    "\n",
    "This notebook contains the basics of Python to help you get more familiar with how people talk about Python."
   ]
  },
  {
   "cell_type": "markdown",
   "metadata": {},
   "source": [
    "## Code in the browser?\n",
    "\n",
    "This is a *Jupyter Notebook* – it allows you to run short snippets of code (called `cells`) and see the results displayed in a shiny, visually appealling way. No Matrix green text on black screen here.\n",
    "\n",
    "You can run cells by selecting a cell and hitting the \"Run\" button above; by hitting \"Shift + Return\", which will run and advance to the next cell; or \"Control + Return\", which will run and stay on the current cell.\n",
    "\n",
    "A cell can be edited when it is in a green bounding box, and moved when it is blue. Hit the \"Escape\" key to go from green to blue, and the \"Return\" key to go from Blue to Green."
   ]
  },
  {
   "cell_type": "markdown",
   "metadata": {},
   "source": [
    "## Built-in Types"
   ]
  },
  {
   "cell_type": "code",
   "execution_count": null,
   "metadata": {},
   "outputs": [],
   "source": [
    "# Comments are lines that start with `#`, like this one"
   ]
  },
  {
   "cell_type": "code",
   "execution_count": null,
   "metadata": {},
   "outputs": [],
   "source": [
    "# Integers (int) are countable numbers\n",
    "x = 5\n",
    "type(x)"
   ]
  },
  {
   "cell_type": "code",
   "execution_count": null,
   "metadata": {},
   "outputs": [],
   "source": [
    "# Floating point numbers (float) are numbers with decimals\n",
    "# The name comes from how the number is stored in the computer. Don't worry about that now.\n",
    "x = 7.0\n",
    "type(x)"
   ]
  },
  {
   "cell_type": "code",
   "execution_count": null,
   "metadata": {},
   "outputs": [],
   "source": [
    "# Strings (str) are text. \n",
    "# The name comes from \"strings of characters\", where a character is a letter\n",
    "x = 'hacking is fun!'\n",
    "type(x)"
   ]
  },
  {
   "cell_type": "code",
   "execution_count": null,
   "metadata": {},
   "outputs": [],
   "source": [
    "# Lists are ordered sequences of objects. They can hold anything.\n",
    "x = [5, 7.0, 'hooray']\n",
    "type(x)"
   ]
  },
  {
   "cell_type": "code",
   "execution_count": null,
   "metadata": {},
   "outputs": [],
   "source": [
    "# Lists can be indexed by position, starting at 0\n",
    "x[0]"
   ]
  },
  {
   "cell_type": "code",
   "execution_count": null,
   "metadata": {},
   "outputs": [],
   "source": [
    "# And you can access a \"slice\" of a list like so\n",
    "x[1:3]"
   ]
  },
  {
   "cell_type": "code",
   "execution_count": null,
   "metadata": {
    "scrolled": true
   },
   "outputs": [],
   "source": [
    "# Lists can contain anything, including other lists!\n",
    "x = [8, [3, 5], ['a', 'b', 'c']]\n",
    "x"
   ]
  },
  {
   "cell_type": "code",
   "execution_count": null,
   "metadata": {},
   "outputs": [],
   "source": [
    "# Dictionaries map `keys` to `values`\n",
    "x = {1: 'apple', 'c': 5.0}"
   ]
  },
  {
   "cell_type": "code",
   "execution_count": null,
   "metadata": {},
   "outputs": [],
   "source": [
    "# To access values in a dictionary, you specify the key\n",
    "x[1]"
   ]
  },
  {
   "cell_type": "markdown",
   "metadata": {},
   "source": [
    "### Operations"
   ]
  },
  {
   "cell_type": "code",
   "execution_count": null,
   "metadata": {},
   "outputs": [],
   "source": [
    "# Numbers of either type can be mixed\n",
    "x = 5\n",
    "y = 7.0\n",
    "x + y"
   ]
  },
  {
   "cell_type": "code",
   "execution_count": null,
   "metadata": {},
   "outputs": [],
   "source": [
    "# You cannot mix numbers and text\n",
    "5 + 'hacking is fun'"
   ]
  },
  {
   "cell_type": "code",
   "execution_count": null,
   "metadata": {},
   "outputs": [],
   "source": [
    "# You can connect lists together, like so\n",
    "[1, '7'] + [4.0]"
   ]
  },
  {
   "cell_type": "markdown",
   "metadata": {},
   "source": [
    "## Working with Arrays"
   ]
  },
  {
   "cell_type": "code",
   "execution_count": null,
   "metadata": {},
   "outputs": [],
   "source": [
    "import numpy as np"
   ]
  },
  {
   "cell_type": "code",
   "execution_count": null,
   "metadata": {},
   "outputs": [],
   "source": [
    "x = np.array([1, 2, 4, 7])\n",
    "type(x)"
   ]
  },
  {
   "cell_type": "code",
   "execution_count": null,
   "metadata": {},
   "outputs": [],
   "source": [
    "# You can add one number to everything\n",
    "np.array([1, 2, 4, 7]) + 6"
   ]
  },
  {
   "cell_type": "code",
   "execution_count": null,
   "metadata": {},
   "outputs": [],
   "source": [
    "# Or add two together with **the same shape**\n",
    "np.array([1, 2, 4, 7]) + np.array([0.5, 1, -2, 5]) "
   ]
  },
  {
   "cell_type": "code",
   "execution_count": null,
   "metadata": {},
   "outputs": [],
   "source": [
    "# These shapes don't match :o(\n",
    "np.array([1, 2, 4, 7]) + np.array([0.5, 1]) "
   ]
  },
  {
   "cell_type": "markdown",
   "metadata": {},
   "source": [
    "## Iterating with \"for loops\""
   ]
  },
  {
   "cell_type": "code",
   "execution_count": null,
   "metadata": {},
   "outputs": [],
   "source": [
    "# Lists are \"iterable\"\n",
    "for value in [1, 4.9, 'apple']:\n",
    "    print(value)"
   ]
  },
  {
   "cell_type": "code",
   "execution_count": null,
   "metadata": {},
   "outputs": [],
   "source": [
    "# So are strings!\n",
    "for char in 'i am a boring sentence':\n",
    "    print(char)"
   ]
  },
  {
   "cell_type": "markdown",
   "metadata": {},
   "source": [
    "## Defining Functions"
   ]
  },
  {
   "cell_type": "code",
   "execution_count": null,
   "metadata": {},
   "outputs": [],
   "source": [
    "# Functions take inputs, and return outputs\n",
    "\n",
    "def my_function(foo, bar):\n",
    "    return foo + bar\n",
    "\n",
    "my_function(3, 5.0)"
   ]
  }
 ],
 "metadata": {
  "kernelspec": {
   "display_name": "Python 3",
   "language": "python",
   "name": "python3"
  },
  "language_info": {
   "codemirror_mode": {
    "name": "ipython",
    "version": 3
   },
   "file_extension": ".py",
   "mimetype": "text/x-python",
   "name": "python",
   "nbconvert_exporter": "python",
   "pygments_lexer": "ipython3",
   "version": "3.6.7"
  }
 },
 "nbformat": 4,
 "nbformat_minor": 2
}
